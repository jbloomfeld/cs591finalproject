{
 "cells": [
  {
   "cell_type": "code",
   "execution_count": 1,
   "metadata": {},
   "outputs": [],
   "source": [
    "import numpy\n",
    "import cvxopt\n",
    "from cvxopt import matrix"
   ]
  },
  {
   "cell_type": "code",
   "execution_count": 2,
   "metadata": {},
   "outputs": [],
   "source": [
    "from cvxopt import matrix, mul, div, cos, sin, exp, sqrt\n",
    "from cvxopt import blas, lapack, solvers\n",
    "try: import pylab\n",
    "except ImportError: pylab_installed = False\n",
    "else: pylab_installed = True"
   ]
  },
  {
   "cell_type": "code",
   "execution_count": 3,
   "metadata": {},
   "outputs": [
    {
     "ename": "NameError",
     "evalue": "name 'ts' is not defined",
     "output_type": "error",
     "traceback": [
      "\u001b[1;31m---------------------------------------------------------------------------\u001b[0m",
      "\u001b[1;31mNameError\u001b[0m                                 Traceback (most recent call last)",
      "\u001b[1;32m<ipython-input-3-ae1756f1d62a>\u001b[0m in \u001b[0;36m<module>\u001b[1;34m()\u001b[0m\n\u001b[0;32m      1\u001b[0m \u001b[1;31m# Signal.\u001b[0m\u001b[1;33m\u001b[0m\u001b[1;33m\u001b[0m\u001b[0m\n\u001b[1;32m----> 2\u001b[1;33m \u001b[0my\u001b[0m \u001b[1;33m=\u001b[0m \u001b[0mmul\u001b[0m\u001b[1;33m(\u001b[0m \u001b[1;36m1.0\u001b[0m \u001b[1;33m+\u001b[0m \u001b[1;36m0.5\u001b[0m \u001b[1;33m*\u001b[0m \u001b[0msin\u001b[0m\u001b[1;33m(\u001b[0m\u001b[1;36m11\u001b[0m\u001b[1;33m*\u001b[0m\u001b[0mts\u001b[0m\u001b[1;33m)\u001b[0m\u001b[1;33m,\u001b[0m \u001b[0msin\u001b[0m\u001b[1;33m(\u001b[0m\u001b[1;36m30\u001b[0m \u001b[1;33m*\u001b[0m \u001b[0msin\u001b[0m\u001b[1;33m(\u001b[0m\u001b[1;36m5\u001b[0m\u001b[1;33m*\u001b[0m\u001b[0mts\u001b[0m\u001b[1;33m)\u001b[0m\u001b[1;33m)\u001b[0m\u001b[1;33m)\u001b[0m\u001b[1;33m\u001b[0m\u001b[0m\n\u001b[0m",
      "\u001b[1;31mNameError\u001b[0m: name 'ts' is not defined"
     ]
    }
   ],
   "source": [
    "# Signal.\n"
   ]
  },
  {
   "cell_type": "code",
   "execution_count": null,
   "metadata": {},
   "outputs": [],
   "source": [
    "# Basis pursuit problem\n",
    "#\n",
    "#     minimize    ||A*x - y||_2^2 + ||x||_1\n",
    "#\n",
    "#     minimize    x'*A'*A*x - 2.0*y'*A*x + 1'*u\n",
    "#     subject to  -u <= x <= u\n",
    "#\n",
    "# Variables x (n),  u (n).\n",
    "\n",
    "m, n = A.size\n",
    "r = matrix(0.0, (m,1))\n",
    "\n",
    "q = matrix(1.0, (2*n,1))\n",
    "blas.gemv(A, y, q, alpha = -2.0, trans = 'T')"
   ]
  },
  {
   "cell_type": "code",
   "execution_count": null,
   "metadata": {},
   "outputs": [],
   "source": [
    "def P(u, v, alpha = 1.0, beta = 0.0):\n",
    "    \"\"\"\n",
    "    Function and gradient evaluation of\n",
    "\n",
    "        v := alpha * 2*A'*A * u + beta * v\n",
    "    \"\"\"\n",
    "\n",
    "    blas.gemv(A, u, r)\n",
    "    blas.gemv(A, r, v, alpha = 2.0*alpha, beta = beta, trans = 'T')"
   ]
  },
  {
   "cell_type": "code",
   "execution_count": null,
   "metadata": {},
   "outputs": [],
   "source": [
    "def G(u, v, alpha = 1.0, beta = 0.0, trans = 'N'):\n",
    "    \"\"\"\n",
    "        v := alpha*[I, -I; -I, -I] * u + beta * v  (trans = 'N' or 'T')\n",
    "    \"\"\"\n",
    "\n",
    "    blas.scal(beta, v)\n",
    "    blas.axpy(u, v, n = n, alpha = alpha)\n",
    "    blas.axpy(u, v, n = n, alpha = -alpha, offsetx = n)\n",
    "    blas.axpy(u, v, n = n, alpha = -alpha, offsety = n)\n",
    "    blas.axpy(u, v, n = n, alpha = -alpha, offsetx = n, offsety = n)"
   ]
  },
  {
   "cell_type": "code",
   "execution_count": null,
   "metadata": {},
   "outputs": [],
   "source": [
    "h = matrix(0.0, (2*n,1))"
   ]
  },
  {
   "cell_type": "code",
   "execution_count": null,
   "metadata": {},
   "outputs": [],
   "source": [
    "# Customized solver for the KKT system\n",
    "#\n",
    "#     [  2.0*A'*A   0    I      -I     ] [x[:n] ]     [bx[:n] ]\n",
    "#     [  0          0   -I      -I     ] [x[n:] ]  =  [bx[n:] ].\n",
    "#     [  I         -I   -D1^-1   0     ] [z[:n] ]     [bz[:n] ]\n",
    "#     [ -I         -I    0      -D2^-1 ] [z[n:] ]     [bz[n:] ]\n",
    "#\n",
    "# where D1 = W['di'][:n]**2,  D2 = W['di'][:n]**2.\n",
    "#\n",
    "# We first eliminate z and x[n:]:\n",
    "#\n",
    "#     ( 2*A'*A + 4*D1*D2*(D1+D2)^-1 ) * x[:n] =\n",
    "#         bx[:n] - (D2-D1)*(D1+D2)^-1 * bx[n:]\n",
    "#         + D1 * ( I + (D2-D1)*(D1+D2)^-1 ) * bz[:n]\n",
    "#         - D2 * ( I - (D2-D1)*(D1+D2)^-1 ) * bz[n:]\n",
    "#\n",
    "#     x[n:] = (D1+D2)^-1 * ( bx[n:] - D1*bz[:n]  - D2*bz[n:] )\n",
    "#              - (D2-D1)*(D1+D2)^-1 * x[:n]\n",
    "#\n",
    "#     z[:n] = D1 * ( x[:n] - x[n:] - bz[:n] )\n",
    "#     z[n:] = D2 * (-x[:n] - x[n:] - bz[n:] ).\n",
    "#\n",
    "#\n",
    "# The first equation has the form\n",
    "#\n",
    "#     (A'*A + D)*x[:n]  =  rhs\n",
    "#\n",
    "# and is equivalent to\n",
    "#\n",
    "#     [ D    A' ] [ x:n] ]  = [ rhs ]\n",
    "#     [ A   -I  ] [ v    ]    [ 0   ].\n",
    "#\n",
    "# It can be solved as\n",
    "#\n",
    "#     ( A*D^-1*A' + I ) * v = A * D^-1 * rhs\n",
    "#     x[:n] = D^-1 * ( rhs - A'*v )."
   ]
  },
  {
   "cell_type": "code",
   "execution_count": null,
   "metadata": {},
   "outputs": [],
   "source": [
    "S = matrix(0.0, (m,m))\n",
    "Asc = matrix(0.0, (m,n))\n",
    "v = matrix(0.0, (m,1))"
   ]
  },
  {
   "cell_type": "code",
   "execution_count": 4,
   "metadata": {},
   "outputs": [],
   "source": [
    "def Fkkt(W):\n",
    "\n",
    "    # Factor\n",
    "    #\n",
    "    #     S = A*D^-1*A' + I\n",
    "    #\n",
    "    # where D = 2*D1*D2*(D1+D2)^-1, D1 = d[:n]**2, D2 = d[n:]**2.\n",
    "\n",
    "    d1, d2 = W['di'][:n]**2, W['di'][n:]**2\n",
    "\n",
    "    # ds is square root of diagonal of D\n",
    "    ds = sqrt(2.0) * div( mul( W['di'][:n], W['di'][n:]), sqrt(d1+d2) )\n",
    "    d3 =  div(d2 - d1, d1 + d2)\n",
    "\n",
    "    # Asc = A*diag(d)^-1/2\n",
    "    blas.copy(A, Asc)\n",
    "    for k in range(m):\n",
    "        blas.tbsv(ds, Asc, n=n, k=0, ldA=1, incx=m, offsetx=k)\n",
    "\n",
    "    # S = I + A * D^-1 * A'\n",
    "    blas.syrk(Asc, S)\n",
    "    S[::m+1] += 1.0\n",
    "    lapack.potrf(S)\n",
    "\n",
    "    def g(x, y, z):\n",
    "\n",
    "        x[:n] = 0.5 * ( x[:n] - mul(d3, x[n:]) + \\\n",
    "                mul(d1, z[:n] + mul(d3, z[:n])) - \\\n",
    "                mul(d2, z[n:] - mul(d3, z[n:])) )\n",
    "        x[:n] = div( x[:n], ds)\n",
    "\n",
    "        # Solve\n",
    "        #\n",
    "        #     S * v = 0.5 * A * D^-1 * ( bx[:n]\n",
    "        #             - (D2-D1)*(D1+D2)^-1 * bx[n:]\n",
    "        #             + D1 * ( I + (D2-D1)*(D1+D2)^-1 ) * bz[:n]\n",
    "        #             - D2 * ( I - (D2-D1)*(D1+D2)^-1 ) * bz[n:] )\n",
    "\n",
    "        blas.gemv(Asc, x, v)\n",
    "        lapack.potrs(S, v)\n",
    "\n",
    "        # x[:n] = D^-1 * ( rhs - A'*v ).\n",
    "        blas.gemv(Asc, v, x, alpha=-1.0, beta=1.0, trans='T')\n",
    "        x[:n] = div(x[:n], ds)\n",
    "\n",
    "        # x[n:] = (D1+D2)^-1 * ( bx[n:] - D1*bz[:n]  - D2*bz[n:] )\n",
    "        #         - (D2-D1)*(D1+D2)^-1 * x[:n]\n",
    "        x[n:] = div( x[n:] - mul(d1, z[:n]) - mul(d2, z[n:]), d1+d2 )\\\n",
    "                - mul( d3, x[:n] )\n",
    "\n",
    "        # z[:n] = D1^1/2 * (  x[:n] - x[n:] - bz[:n] )\n",
    "        # z[n:] = D2^1/2 * ( -x[:n] - x[n:] - bz[n:] ).\n",
    "        z[:n] = mul( W['di'][:n],  x[:n] - x[n:] - z[:n] )\n",
    "        z[n:] = mul( W['di'][n:], -x[:n] - x[n:] - z[n:] )\n",
    "\n",
    "    return g"
   ]
  },
  {
   "cell_type": "code",
   "execution_count": 5,
   "metadata": {},
   "outputs": [
    {
     "ename": "NameError",
     "evalue": "name 'P' is not defined",
     "output_type": "error",
     "traceback": [
      "\u001b[1;31m---------------------------------------------------------------------------\u001b[0m",
      "\u001b[1;31mNameError\u001b[0m                                 Traceback (most recent call last)",
      "\u001b[1;32m<ipython-input-5-ea9f62191309>\u001b[0m in \u001b[0;36m<module>\u001b[1;34m()\u001b[0m\n\u001b[1;32m----> 1\u001b[1;33m \u001b[0mx\u001b[0m \u001b[1;33m=\u001b[0m \u001b[0msolvers\u001b[0m\u001b[1;33m.\u001b[0m\u001b[0mconeqp\u001b[0m\u001b[1;33m(\u001b[0m\u001b[0mP\u001b[0m\u001b[1;33m,\u001b[0m \u001b[0mq\u001b[0m\u001b[1;33m,\u001b[0m \u001b[0mG\u001b[0m\u001b[1;33m,\u001b[0m \u001b[0mh\u001b[0m\u001b[1;33m,\u001b[0m \u001b[0mkktsolver\u001b[0m \u001b[1;33m=\u001b[0m \u001b[0mFkkt\u001b[0m\u001b[1;33m)\u001b[0m\u001b[1;33m[\u001b[0m\u001b[1;34m'x'\u001b[0m\u001b[1;33m]\u001b[0m\u001b[1;33m[\u001b[0m\u001b[1;33m:\u001b[0m\u001b[0mn\u001b[0m\u001b[1;33m]\u001b[0m\u001b[1;33m\u001b[0m\u001b[0m\n\u001b[0m\u001b[0;32m      2\u001b[0m \u001b[1;33m\u001b[0m\u001b[0m\n\u001b[0;32m      3\u001b[0m \u001b[0mI\u001b[0m \u001b[1;33m=\u001b[0m \u001b[1;33m[\u001b[0m \u001b[0mk\u001b[0m \u001b[1;32mfor\u001b[0m \u001b[0mk\u001b[0m \u001b[1;32min\u001b[0m \u001b[0mrange\u001b[0m\u001b[1;33m(\u001b[0m\u001b[0mn\u001b[0m\u001b[1;33m)\u001b[0m \u001b[1;32mif\u001b[0m \u001b[0mabs\u001b[0m\u001b[1;33m(\u001b[0m\u001b[0mx\u001b[0m\u001b[1;33m[\u001b[0m\u001b[0mk\u001b[0m\u001b[1;33m]\u001b[0m\u001b[1;33m)\u001b[0m \u001b[1;33m>\u001b[0m \u001b[1;36m1e-2\u001b[0m \u001b[1;33m]\u001b[0m\u001b[1;33m\u001b[0m\u001b[0m\n\u001b[0;32m      4\u001b[0m \u001b[0mxls\u001b[0m \u001b[1;33m=\u001b[0m \u001b[1;33m+\u001b[0m\u001b[0my\u001b[0m\u001b[1;33m\u001b[0m\u001b[0m\n\u001b[0;32m      5\u001b[0m \u001b[0mlapack\u001b[0m\u001b[1;33m.\u001b[0m\u001b[0mgels\u001b[0m\u001b[1;33m(\u001b[0m\u001b[0mA\u001b[0m\u001b[1;33m[\u001b[0m\u001b[1;33m:\u001b[0m\u001b[1;33m,\u001b[0m\u001b[0mI\u001b[0m\u001b[1;33m]\u001b[0m\u001b[1;33m,\u001b[0m \u001b[0mxls\u001b[0m\u001b[1;33m)\u001b[0m\u001b[1;33m\u001b[0m\u001b[0m\n",
      "\u001b[1;31mNameError\u001b[0m: name 'P' is not defined"
     ]
    }
   ],
   "source": [
    "x = solvers.coneqp(P, q, G, h, kktsolver = Fkkt)['x'][:n]\n",
    "\n",
    "I = [ k for k in range(n) if abs(x[k]) > 1e-2 ]\n",
    "xls = +y\n",
    "lapack.gels(A[:,I], xls)\n",
    "ybp = A[:,I]*xls[:len(I)]\n",
    "\n",
    "print(\"Sparse basis contains %d basis functions.\" %len(I))\n",
    "print(\"Relative RMS error = %.1e.\" %(blas.nrm2(ybp-y) / blas.nrm2(y)))"
   ]
  },
  {
   "cell_type": "code",
   "execution_count": 6,
   "metadata": {},
   "outputs": [
    {
     "ename": "NameError",
     "evalue": "name 'ts' is not defined",
     "output_type": "error",
     "traceback": [
      "\u001b[1;31m---------------------------------------------------------------------------\u001b[0m",
      "\u001b[1;31mNameError\u001b[0m                                 Traceback (most recent call last)",
      "\u001b[1;32m<ipython-input-6-866ce99bcf29>\u001b[0m in \u001b[0;36m<module>\u001b[1;34m()\u001b[0m\n\u001b[0;32m      2\u001b[0m     \u001b[0mpylab\u001b[0m\u001b[1;33m.\u001b[0m\u001b[0mfigure\u001b[0m\u001b[1;33m(\u001b[0m\u001b[1;36m2\u001b[0m\u001b[1;33m,\u001b[0m \u001b[0mfacecolor\u001b[0m\u001b[1;33m=\u001b[0m\u001b[1;34m'w'\u001b[0m\u001b[1;33m)\u001b[0m\u001b[1;33m\u001b[0m\u001b[0m\n\u001b[0;32m      3\u001b[0m     \u001b[0mpylab\u001b[0m\u001b[1;33m.\u001b[0m\u001b[0msubplot\u001b[0m\u001b[1;33m(\u001b[0m\u001b[1;36m211\u001b[0m\u001b[1;33m)\u001b[0m\u001b[1;33m\u001b[0m\u001b[0m\n\u001b[1;32m----> 4\u001b[1;33m     \u001b[0mpylab\u001b[0m\u001b[1;33m.\u001b[0m\u001b[0mplot\u001b[0m\u001b[1;33m(\u001b[0m\u001b[0mts\u001b[0m\u001b[1;33m,\u001b[0m \u001b[0my\u001b[0m\u001b[1;33m,\u001b[0m \u001b[1;34m'-'\u001b[0m\u001b[1;33m,\u001b[0m \u001b[0mts\u001b[0m\u001b[1;33m,\u001b[0m \u001b[0mybp\u001b[0m\u001b[1;33m,\u001b[0m \u001b[1;34m'r--'\u001b[0m\u001b[1;33m)\u001b[0m\u001b[1;33m\u001b[0m\u001b[0m\n\u001b[0m\u001b[0;32m      5\u001b[0m     \u001b[0mpylab\u001b[0m\u001b[1;33m.\u001b[0m\u001b[0mxlabel\u001b[0m\u001b[1;33m(\u001b[0m\u001b[1;34m't'\u001b[0m\u001b[1;33m)\u001b[0m\u001b[1;33m\u001b[0m\u001b[0m\n\u001b[0;32m      6\u001b[0m     \u001b[0mpylab\u001b[0m\u001b[1;33m.\u001b[0m\u001b[0mylabel\u001b[0m\u001b[1;33m(\u001b[0m\u001b[1;34m'y(t), yhat(t)'\u001b[0m\u001b[1;33m)\u001b[0m\u001b[1;33m\u001b[0m\u001b[0m\n",
      "\u001b[1;31mNameError\u001b[0m: name 'ts' is not defined"
     ]
    },
    {
     "data": {
      "image/png": "[encoded data removed]",
      "text/plain": [
       "<Figure size 432x288 with 1 Axes>"
      ]
     },
     "metadata": {},
     "output_type": "display_data"
    }
   ],
   "source": [
    "if pylab_installed:\n",
    "    pylab.figure(2, facecolor='w')\n",
    "    pylab.subplot(211)\n",
    "    pylab.plot(ts, y, '-', ts, ybp, 'r--')\n",
    "    pylab.xlabel('t')\n",
    "    pylab.ylabel('y(t), yhat(t)')\n",
    "    pylab.axis([0, 1, -1.5, 1.5])\n",
    "    pylab.title('Signal and basis pursuit approximation (fig. 6.22)')\n",
    "    pylab.subplot(212)\n",
    "    pylab.plot(ts, y-ybp, '-')\n",
    "    pylab.xlabel('t')\n",
    "    pylab.ylabel('y(t)-yhat(t)')\n",
    "    pylab.axis([0, 1, -0.05, 0.05])\n",
    "\n",
    "    pylab.figure(3, facecolor='w')\n",
    "    pylab.subplot(211)\n",
    "    pylab.plot(ts, y, '-')\n",
    "    pylab.xlabel('t')\n",
    "    pylab.ylabel('y(t)')\n",
    "    pylab.axis([0, 1, -1.5, 1.5])\n",
    "    pylab.title('Signal and time-frequency plot (fig. 6.23)')\n",
    "    pylab.subplot(212)\n",
    "    omegas, taus = [], []\n",
    "    for i in I:\n",
    "        if i < K:\n",
    "            omegas += [0.0]\n",
    "            taus += [i*tau]\n",
    "        else:\n",
    "            l = (i-K)/(2*K)+1\n",
    "            k = ((i-K)%(2*K)) %K\n",
    "            omegas += [l*omega0]\n",
    "            taus += [k*tau]\n",
    "    pylab.plot(ts, 150*abs(cos(5.0*ts)), '-', taus, omegas, 'ro')\n",
    "    pylab.xlabel('t')\n",
    "    pylab.ylabel('omega(t)')\n",
    "    pylab.axis([0, 1, -5, 155])\n",
    "    pylab.show()"
   ]
  },
  {
   "cell_type": "code",
   "execution_count": null,
   "metadata": {},
   "outputs": [],
   "source": []
  },
  {
   "cell_type": "code",
   "execution_count": null,
   "metadata": {},
   "outputs": [],
   "source": []
  },
  {
   "cell_type": "code",
   "execution_count": null,
   "metadata": {},
   "outputs": [],
   "source": []
  }
 ],
 "metadata": {
  "kernelspec": {
   "display_name": "Python 3",
   "language": "python",
   "name": "python3"
  },
  "language_info": {
   "codemirror_mode": {
    "name": "ipython",
    "version": 3
   },
   "file_extension": ".py",
   "mimetype": "text/x-python",
   "name": "python",
   "nbconvert_exporter": "python",
   "pygments_lexer": "ipython3",
   "version": "3.6.5"
  }
 },
 "nbformat": 4,
 "nbformat_minor": 2
}
