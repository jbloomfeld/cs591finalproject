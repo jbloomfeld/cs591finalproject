{
 "cells": [
  {
   "cell_type": "code",
   "execution_count": 1,
   "metadata": {},
   "outputs": [
    {
     "name": "stdout",
     "output_type": "stream",
     "text": [
      "Name: \n",
      "Type: Graph\n",
      "Number of nodes: 77\n",
      "Number of edges: 254\n",
      "Average degree:   6.5974\n"
     ]
    }
   ],
   "source": [
    "import matplotlib.pyplot as plt\n",
    "import networkx as nx\n",
    "\n",
    "filename = './data/lesmis.gml'\n",
    "G_lesmis = nx.read_gml(filename)\n",
    "\n",
    "print(nx.info(G_lesmis))"
   ]
  },
  {
   "cell_type": "code",
   "execution_count": 2,
   "metadata": {},
   "outputs": [
    {
     "data": {
      "text/plain": [
       "[[u'Anzelma',\n",
       "  u'Babet',\n",
       "  u'Bahorel',\n",
       "  u'Bamatabois',\n",
       "  u'BaronessT',\n",
       "  u'Bossuet',\n",
       "  u'Boulatruelle',\n",
       "  u'Brevet',\n",
       "  u'Brujon',\n",
       "  u'Champmathieu',\n",
       "  u'Chenildieu',\n",
       "  u'Child1',\n",
       "  u'Child2',\n",
       "  u'Claquesous',\n",
       "  u'Cochepaille',\n",
       "  u'Combeferre',\n",
       "  u'Cosette',\n",
       "  u'Courfeyrac',\n",
       "  u'Enjolras',\n",
       "  u'Eponine',\n",
       "  u'Fauchelevent',\n",
       "  u'Feuilly',\n",
       "  u'Gavroche',\n",
       "  u'Gervais',\n",
       "  u'Gillenormand',\n",
       "  u'Grantaire',\n",
       "  u'Gribier',\n",
       "  u'Gueulemer',\n",
       "  u'Isabeau',\n",
       "  u'Javert',\n",
       "  u'Joly',\n",
       "  u'Jondrette',\n",
       "  u'Judge',\n",
       "  u'Labarre',\n",
       "  u'LtGillenormand',\n",
       "  u'Mabeuf',\n",
       "  u'Magnon',\n",
       "  u'Marius',\n",
       "  u'MlleGillenormand',\n",
       "  u'MlleVaubois',\n",
       "  u'MmeBurgon',\n",
       "  u'MmeDeR',\n",
       "  u'MmeHucheloup',\n",
       "  u'MmePontmercy',\n",
       "  u'MmeThenardier',\n",
       "  u'Montparnasse',\n",
       "  u'MotherInnocent',\n",
       "  u'MotherPlutarch',\n",
       "  u'Pontmercy',\n",
       "  u'Prouvaire',\n",
       "  u'Scaufflaire',\n",
       "  u'Simplice',\n",
       "  u'Thenardier',\n",
       "  u'Toussaint',\n",
       "  u'Valjean',\n",
       "  u'Woman1',\n",
       "  u'Woman2'],\n",
       " [u'Blacheville',\n",
       "  u'Dahlia',\n",
       "  u'Fameuil',\n",
       "  u'Fantine',\n",
       "  u'Favourite',\n",
       "  u'Listolier',\n",
       "  u'Marguerite',\n",
       "  u'Perpetue',\n",
       "  u'Tholomyes',\n",
       "  u'Zephine'],\n",
       " [u'Champtercier',\n",
       "  u'Count',\n",
       "  u'CountessDeLo',\n",
       "  u'Cravatte',\n",
       "  u'Geborand',\n",
       "  u'MlleBaptistine',\n",
       "  u'MmeMagloire',\n",
       "  u'Myriel',\n",
       "  u'Napoleon',\n",
       "  u'OldMan']]"
      ]
     },
     "execution_count": 2,
     "metadata": {},
     "output_type": "execute_result"
    }
   ],
   "source": [
    "from networkx.algorithms import community\n",
    "com = community.girvan_newman(G_lesmis)\n",
    "top_level_communities = next(com)\n",
    "next_level_communities = next(com)\n",
    "sorted(map(sorted, next_level_communities))"
   ]
  },
  {
   "cell_type": "code",
   "execution_count": null,
   "metadata": {},
   "outputs": [],
   "source": []
  }
 ],
 "metadata": {
  "kernelspec": {
   "display_name": "Python 2",
   "language": "python",
   "name": "python2"
  },
  "language_info": {
   "codemirror_mode": {
    "name": "ipython",
    "version": 2
   },
   "file_extension": ".py",
   "mimetype": "text/x-python",
   "name": "python",
   "nbconvert_exporter": "python",
   "pygments_lexer": "ipython2",
   "version": "2.7.15"
  }
 },
 "nbformat": 4,
 "nbformat_minor": 2
}
