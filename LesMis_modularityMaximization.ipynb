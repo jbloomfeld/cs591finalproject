{
 "cells": [
  {
   "cell_type": "code",
   "execution_count": 1,
   "metadata": {},
   "outputs": [
    {
     "name": "stdout",
     "output_type": "stream",
     "text": [
      "Name: \n",
      "Type: Graph\n",
      "Number of nodes: 77\n",
      "Number of edges: 254\n",
      "Average degree:   6.5974\n"
     ]
    }
   ],
   "source": [
    "import matplotlib.pyplot as plt\n",
    "import networkx as nx\n",
    "\n",
    "filename = './data/lesmis.gml'\n",
    "G_lesmis = nx.read_gml(filename)\n",
    "\n",
    "print(nx.info(G_lesmis))"
   ]
  },
  {
   "cell_type": "code",
   "execution_count": 2,
   "metadata": {},
   "outputs": [
    {
     "data": {
      "text/plain": [
       "[u'Brevet',\n",
       " u'Champmathieu',\n",
       " u'Champtercier',\n",
       " u'Chenildieu',\n",
       " u'Cochepaille',\n",
       " u'Count',\n",
       " u'CountessDeLo',\n",
       " u'Cravatte',\n",
       " u'Fauchelevent',\n",
       " u'Geborand',\n",
       " u'Gervais',\n",
       " u'Gribier',\n",
       " u'Isabeau',\n",
       " u'Judge',\n",
       " u'Labarre',\n",
       " u'Marguerite',\n",
       " u'MlleBaptistine',\n",
       " u'MmeDeR',\n",
       " u'MmeMagloire',\n",
       " u'MotherInnocent',\n",
       " u'Myriel',\n",
       " u'Napoleon',\n",
       " u'OldMan',\n",
       " u'Scaufflaire',\n",
       " u'Valjean',\n",
       " u'Woman1']"
      ]
     },
     "execution_count": 2,
     "metadata": {},
     "output_type": "execute_result"
    }
   ],
   "source": [
    "from networkx.algorithms.community import greedy_modularity_communities\n",
    "'''\n",
    " Find communities in graph using Clauset-Newman-Moore greedy modularity maximization. \n",
    " This method currently supports the Graph class without considering edge weights.\n",
    "\n",
    " Greedy modularity maximization begins with each node in its own community and joins the pair of communities \n",
    " that most increases modularity until no such pair exists.\n",
    "'''\n",
    "c = list(greedy_modularity_communities(G_lesmis))\n",
    "sorted(c[0])"
   ]
  },
  {
   "cell_type": "code",
   "execution_count": 3,
   "metadata": {},
   "outputs": [
    {
     "data": {
      "text/plain": [
       "[u'Bahorel',\n",
       " u'Bossuet',\n",
       " u'Child1',\n",
       " u'Child2',\n",
       " u'Combeferre',\n",
       " u'Courfeyrac',\n",
       " u'Enjolras',\n",
       " u'Feuilly',\n",
       " u'Gavroche',\n",
       " u'Grantaire',\n",
       " u'Joly',\n",
       " u'Jondrette',\n",
       " u'Mabeuf',\n",
       " u'MmeBurgon',\n",
       " u'MmeHucheloup',\n",
       " u'MotherPlutarch',\n",
       " u'Prouvaire']"
      ]
     },
     "execution_count": 3,
     "metadata": {},
     "output_type": "execute_result"
    }
   ],
   "source": [
    "sorted(c[1])"
   ]
  },
  {
   "cell_type": "code",
   "execution_count": 4,
   "metadata": {},
   "outputs": [
    {
     "data": {
      "text/plain": [
       "[u'Anzelma',\n",
       " u'Babet',\n",
       " u'Bamatabois',\n",
       " u'Boulatruelle',\n",
       " u'Brujon',\n",
       " u'Claquesous',\n",
       " u'Eponine',\n",
       " u'Fantine',\n",
       " u'Gueulemer',\n",
       " u'Javert',\n",
       " u'MmeThenardier',\n",
       " u'Montparnasse',\n",
       " u'Perpetue',\n",
       " u'Simplice',\n",
       " u'Thenardier']"
      ]
     },
     "execution_count": 4,
     "metadata": {},
     "output_type": "execute_result"
    }
   ],
   "source": [
    "sorted(c[2])"
   ]
  },
  {
   "cell_type": "code",
   "execution_count": 5,
   "metadata": {},
   "outputs": [
    {
     "data": {
      "text/plain": [
       "[u'BaronessT',\n",
       " u'Cosette',\n",
       " u'Gillenormand',\n",
       " u'LtGillenormand',\n",
       " u'Magnon',\n",
       " u'Marius',\n",
       " u'MlleGillenormand',\n",
       " u'MlleVaubois',\n",
       " u'MmePontmercy',\n",
       " u'Pontmercy',\n",
       " u'Tholomyes',\n",
       " u'Toussaint',\n",
       " u'Woman2']"
      ]
     },
     "execution_count": 5,
     "metadata": {},
     "output_type": "execute_result"
    }
   ],
   "source": [
    "sorted(c[3])"
   ]
  },
  {
   "cell_type": "code",
   "execution_count": 6,
   "metadata": {},
   "outputs": [
    {
     "data": {
      "text/plain": [
       "[u'Blacheville', u'Dahlia', u'Fameuil', u'Favourite', u'Listolier', u'Zephine']"
      ]
     },
     "execution_count": 6,
     "metadata": {},
     "output_type": "execute_result"
    }
   ],
   "source": [
    "sorted(c[4])"
   ]
  },
  {
   "cell_type": "code",
   "execution_count": 18,
   "metadata": {},
   "outputs": [
    {
     "name": "stdout",
     "output_type": "stream",
     "text": [
      "(26, 17, 15, 13, 6)\n"
     ]
    }
   ],
   "source": [
    "print(len(c[0]),len(c[1]),len(c[2]),len(c[3]),len(c[4]))"
   ]
  },
  {
   "cell_type": "code",
   "execution_count": null,
   "metadata": {},
   "outputs": [],
   "source": []
  }
 ],
 "metadata": {
  "kernelspec": {
   "display_name": "Python 2",
   "language": "python",
   "name": "python2"
  },
  "language_info": {
   "codemirror_mode": {
    "name": "ipython",
    "version": 2
   },
   "file_extension": ".py",
   "mimetype": "text/x-python",
   "name": "python",
   "nbconvert_exporter": "python",
   "pygments_lexer": "ipython2",
   "version": "2.7.15"
  }
 },
 "nbformat": 4,
 "nbformat_minor": 2
}
