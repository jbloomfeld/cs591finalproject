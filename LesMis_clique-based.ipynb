{
 "cells": [
  {
   "cell_type": "code",
   "execution_count": 1,
   "metadata": {},
   "outputs": [
    {
     "name": "stdout",
     "output_type": "stream",
     "text": [
      "Name: \n",
      "Type: Graph\n",
      "Number of nodes: 77\n",
      "Number of edges: 254\n",
      "Average degree:   6.5974\n"
     ]
    }
   ],
   "source": [
    "import matplotlib.pyplot as plt\n",
    "import networkx as nx\n",
    "\n",
    "filename = './data/lesmis.gml'\n",
    "G_lesmis = nx.read_gml(filename)\n",
    "\n",
    "print(nx.info(G_lesmis))"
   ]
  },
  {
   "cell_type": "code",
   "execution_count": 2,
   "metadata": {},
   "outputs": [
    {
     "name": "stdout",
     "output_type": "stream",
     "text": [
      "59\n",
      "{u'Joly': 3, u'MlleBaptistine': 1, u'Fantine': 6, u'MlleVaubois': 1, u'MmeBurgon': 2, u'Javert': 13, u'Cochepaille': 1, u'Chenildieu': 1, u'LtGillenormand': 1, u'Babet': 6, u'MmeThenardier': 6, u'Valjean': 26, u'Pontmercy': 2, u'Toussaint': 1, u'MmeMagloire': 1, u'Champtercier': 1, u'Grantaire': 2, u'Woman1': 1, u'Child1': 1, u'Child2': 1, u'Bamatabois': 2, u'Woman2': 1, u'Favourite': 1, u'Magnon': 2, u'Fameuil': 1, u'Enjolras': 6, u'Labarre': 1, u'Feuilly': 2, u'Perpetue': 1, u'Tholomyes': 2, u'Judge': 1, u'Dahlia': 1, u'Brujon': 2, u'Blacheville': 1, u'Napoleon': 1, u'Count': 1, u'Combeferre': 2, u'Isabeau': 1, u'Eponine': 5, u'MmePontmercy': 2, u'Champmathieu': 1, u'Montparnasse': 4, u'Gillenormand': 4, u'Anzelma': 1, u'Zephine': 1, u'Jondrette': 1, u'Fauchelevent': 3, u'Courfeyrac': 4, u'Geborand': 1, u'Gribier': 1, u'Bossuet': 4, u'Simplice': 2, u'Prouvaire': 1, u'Gervais': 1, u'Mabeuf': 3, u'Cosette': 7, u'Listolier': 1, u'Brevet': 1, u'Marguerite': 1, u'Gavroche': 10, u'Myriel': 8, u'MlleGillenormand': 4, u'Bahorel': 3, u'MmeHucheloup': 1, u'Gueulemer': 6, u'MotherInnocent': 1, u'Thenardier': 14, u'BaronessT': 1, u'Scaufflaire': 1, u'OldMan': 1, u'Cravatte': 1, u'Claquesous': 5, u'Boulatruelle': 1, u'CountessDeLo': 1, u'MmeDeR': 1, u'MotherPlutarch': 1, u'Marius': 11}\n"
     ]
    },
    {
     "data": {
      "text/plain": [
       "[[u'BaronessT', u'Gillenormand', u'Marius'],\n",
       " [u'Boulatruelle', u'Thenardier'],\n",
       " [u'Brujon',\n",
       "  u'Gueulemer',\n",
       "  u'Babet',\n",
       "  u'Montparnasse',\n",
       "  u'Thenardier',\n",
       "  u'Claquesous',\n",
       "  u'Eponine'],\n",
       " [u'Brujon',\n",
       "  u'Gueulemer',\n",
       "  u'Babet',\n",
       "  u'Montparnasse',\n",
       "  u'Thenardier',\n",
       "  u'Gavroche'],\n",
       " [u'Champtercier', u'Myriel'],\n",
       " [u'Child1', u'Child2', u'Gavroche'],\n",
       " [u'Count', u'Myriel'],\n",
       " [u'CountessDeLo', u'Myriel'],\n",
       " [u'Cravatte', u'Myriel'],\n",
       " [u'Eponine', u'Courfeyrac', u'Mabeuf', u'Marius'],\n",
       " [u'Eponine', u'Thenardier', u'Anzelma', u'MmeThenardier'],\n",
       " [u'Eponine',\n",
       "  u'Thenardier',\n",
       "  u'Gueulemer',\n",
       "  u'Claquesous',\n",
       "  u'Babet',\n",
       "  u'MmeThenardier'],\n",
       " [u'Eponine', u'Thenardier', u'Marius'],\n",
       " [u'Favourite',\n",
       "  u'Listolier',\n",
       "  u'Fantine',\n",
       "  u'Zephine',\n",
       "  u'Dahlia',\n",
       "  u'Blacheville',\n",
       "  u'Fameuil',\n",
       "  u'Tholomyes'],\n",
       " [u'Geborand', u'Myriel'],\n",
       " [u'Gribier', u'Fauchelevent'],\n",
       " [u'Joly',\n",
       "  u'Gavroche',\n",
       "  u'Bahorel',\n",
       "  u'Enjolras',\n",
       "  u'Courfeyrac',\n",
       "  u'Bossuet',\n",
       "  u'Combeferre',\n",
       "  u'Feuilly',\n",
       "  u'Mabeuf',\n",
       "  u'Marius'],\n",
       " [u'Joly',\n",
       "  u'Gavroche',\n",
       "  u'Bahorel',\n",
       "  u'Enjolras',\n",
       "  u'Courfeyrac',\n",
       "  u'Bossuet',\n",
       "  u'Combeferre',\n",
       "  u'Feuilly',\n",
       "  u'Prouvaire',\n",
       "  u'Grantaire'],\n",
       " [u'Joly',\n",
       "  u'Gavroche',\n",
       "  u'Bahorel',\n",
       "  u'Enjolras',\n",
       "  u'Courfeyrac',\n",
       "  u'Bossuet',\n",
       "  u'MmeHucheloup',\n",
       "  u'Grantaire'],\n",
       " [u'LtGillenormand',\n",
       "  u'Cosette',\n",
       "  u'Gillenormand',\n",
       "  u'MlleGillenormand',\n",
       "  u'Marius'],\n",
       " [u'Mabeuf', u'MotherPlutarch'],\n",
       " [u'Magnon', u'Gillenormand'],\n",
       " [u'Magnon', u'MmeThenardier'],\n",
       " [u'MlleVaubois', u'MlleGillenormand'],\n",
       " [u'MmeBurgon', u'Gavroche'],\n",
       " [u'MmeBurgon', u'Jondrette'],\n",
       " [u'MmePontmercy', u'MlleGillenormand'],\n",
       " [u'Napoleon', u'Myriel'],\n",
       " [u'OldMan', u'Myriel'],\n",
       " [u'Perpetue', u'Fantine', u'Simplice'],\n",
       " [u'Pontmercy', u'MmePontmercy'],\n",
       " [u'Pontmercy', u'Thenardier', u'Marius'],\n",
       " [u'Tholomyes', u'Cosette', u'Marius'],\n",
       " [u'Valjean', u'Bossuet', u'Marius', u'Enjolras', u'Gavroche'],\n",
       " [u'Valjean',\n",
       "  u'Brevet',\n",
       "  u'Judge',\n",
       "  u'Champmathieu',\n",
       "  u'Chenildieu',\n",
       "  u'Bamatabois',\n",
       "  u'Cochepaille'],\n",
       " [u'Valjean', u'Gervais'],\n",
       " [u'Valjean', u'Gillenormand', u'Cosette', u'MlleGillenormand', u'Marius'],\n",
       " [u'Valjean', u'Isabeau'],\n",
       " [u'Valjean', u'Javert', u'Bamatabois', u'Fantine'],\n",
       " [u'Valjean', u'Javert', u'Enjolras', u'Claquesous'],\n",
       " [u'Valjean', u'Javert', u'Enjolras', u'Gavroche'],\n",
       " [u'Valjean', u'Javert', u'Fauchelevent'],\n",
       " [u'Valjean', u'Javert', u'Simplice', u'Fantine'],\n",
       " [u'Valjean', u'Javert', u'Thenardier', u'Cosette', u'MmeThenardier'],\n",
       " [u'Valjean', u'Javert', u'Thenardier', u'Fantine', u'MmeThenardier'],\n",
       " [u'Valjean',\n",
       "  u'Javert',\n",
       "  u'Thenardier',\n",
       "  u'Gueulemer',\n",
       "  u'Babet',\n",
       "  u'Claquesous',\n",
       "  u'MmeThenardier'],\n",
       " [u'Valjean',\n",
       "  u'Javert',\n",
       "  u'Thenardier',\n",
       "  u'Gueulemer',\n",
       "  u'Babet',\n",
       "  u'Claquesous',\n",
       "  u'Montparnasse'],\n",
       " [u'Valjean',\n",
       "  u'Javert',\n",
       "  u'Thenardier',\n",
       "  u'Gueulemer',\n",
       "  u'Babet',\n",
       "  u'Gavroche',\n",
       "  u'Montparnasse'],\n",
       " [u'Valjean', u'Javert', u'Toussaint', u'Cosette'],\n",
       " [u'Valjean', u'Javert', u'Woman1'],\n",
       " [u'Valjean', u'Javert', u'Woman2', u'Cosette'],\n",
       " [u'Valjean', u'Labarre'],\n",
       " [u'Valjean', u'Marguerite', u'Fantine'],\n",
       " [u'Valjean', u'Marius', u'Cosette', u'Thenardier'],\n",
       " [u'Valjean', u'Marius', u'Gavroche', u'Thenardier'],\n",
       " [u'Valjean', u'MlleBaptistine', u'Myriel', u'MmeMagloire'],\n",
       " [u'Valjean', u'MmeDeR'],\n",
       " [u'Valjean', u'MotherInnocent', u'Fauchelevent'],\n",
       " [u'Valjean', u'Scaufflaire']]"
      ]
     },
     "execution_count": 2,
     "metadata": {},
     "output_type": "execute_result"
    }
   ],
   "source": [
    "# maximal cliques with Bron–Kerbosch algorithm \n",
    "from networkx.algorithms import clique\n",
    "\n",
    "# Returns the number of maximal cliques in the graph.\n",
    "print(clique.graph_number_of_cliques(G_lesmis))\n",
    "\n",
    "#Returns the number of maximal cliques for each node.\n",
    "print(clique.number_of_cliques(G_lesmis))\n",
    "\n",
    "# Returns all maximal cliques in the graph.\n",
    "cliques = list(nx.find_cliques(G_lesmis))\n",
    "sorted(cliques)"
   ]
  },
  {
   "cell_type": "code",
   "execution_count": 3,
   "metadata": {
    "scrolled": true
   },
   "outputs": [
    {
     "data": {
      "text/plain": [
       "[u'Blacheville',\n",
       " u'Dahlia',\n",
       " u'Fameuil',\n",
       " u'Fantine',\n",
       " u'Favourite',\n",
       " u'Listolier',\n",
       " u'Tholomyes',\n",
       " u'Zephine']"
      ]
     },
     "execution_count": 3,
     "metadata": {},
     "output_type": "execute_result"
    }
   ],
   "source": [
    "# Fixed-sized cliques\n",
    "from networkx.algorithms.community import k_clique_communities\n",
    "c3 = list(k_clique_communities(G_lesmis, 3))\n",
    "sorted(c3[0])"
   ]
  },
  {
   "cell_type": "code",
   "execution_count": 4,
   "metadata": {},
   "outputs": [
    {
     "data": {
      "text/plain": [
       "[u'Child1', u'Child2', u'Gavroche']"
      ]
     },
     "execution_count": 4,
     "metadata": {},
     "output_type": "execute_result"
    }
   ],
   "source": [
    "sorted(c3[1])"
   ]
  },
  {
   "cell_type": "code",
   "execution_count": 5,
   "metadata": {},
   "outputs": [
    {
     "data": {
      "text/plain": [
       "[u'Anzelma',\n",
       " u'Babet',\n",
       " u'Bahorel',\n",
       " u'Bamatabois',\n",
       " u'BaronessT',\n",
       " u'Bossuet',\n",
       " u'Brevet',\n",
       " u'Brujon',\n",
       " u'Champmathieu',\n",
       " u'Chenildieu',\n",
       " u'Claquesous',\n",
       " u'Cochepaille',\n",
       " u'Combeferre',\n",
       " u'Cosette',\n",
       " u'Courfeyrac',\n",
       " u'Enjolras',\n",
       " u'Eponine',\n",
       " u'Fantine',\n",
       " u'Fauchelevent',\n",
       " u'Feuilly',\n",
       " u'Gavroche',\n",
       " u'Gillenormand',\n",
       " u'Grantaire',\n",
       " u'Gueulemer',\n",
       " u'Javert',\n",
       " u'Joly',\n",
       " u'Judge',\n",
       " u'LtGillenormand',\n",
       " u'Mabeuf',\n",
       " u'Marguerite',\n",
       " u'Marius',\n",
       " u'MlleGillenormand',\n",
       " u'MmeHucheloup',\n",
       " u'MmeThenardier',\n",
       " u'Montparnasse',\n",
       " u'MotherInnocent',\n",
       " u'Perpetue',\n",
       " u'Pontmercy',\n",
       " u'Prouvaire',\n",
       " u'Simplice',\n",
       " u'Thenardier',\n",
       " u'Tholomyes',\n",
       " u'Toussaint',\n",
       " u'Valjean',\n",
       " u'Woman1',\n",
       " u'Woman2']"
      ]
     },
     "execution_count": 5,
     "metadata": {},
     "output_type": "execute_result"
    }
   ],
   "source": [
    "sorted(c3[2])"
   ]
  },
  {
   "cell_type": "code",
   "execution_count": 6,
   "metadata": {},
   "outputs": [
    {
     "data": {
      "text/plain": [
       "[u'MlleBaptistine', u'MmeMagloire', u'Myriel', u'Valjean']"
      ]
     },
     "execution_count": 6,
     "metadata": {},
     "output_type": "execute_result"
    }
   ],
   "source": [
    "sorted(c3[3])"
   ]
  },
  {
   "cell_type": "code",
   "execution_count": 7,
   "metadata": {},
   "outputs": [
    {
     "data": {
      "text/plain": [
       "[u'Blacheville',\n",
       " u'Dahlia',\n",
       " u'Fameuil',\n",
       " u'Fantine',\n",
       " u'Favourite',\n",
       " u'Listolier',\n",
       " u'Tholomyes',\n",
       " u'Zephine']"
      ]
     },
     "execution_count": 7,
     "metadata": {},
     "output_type": "execute_result"
    }
   ],
   "source": [
    "c4 = list(k_clique_communities(G_lesmis, 4))\n",
    "sorted(c4[0])"
   ]
  },
  {
   "cell_type": "code",
   "execution_count": 8,
   "metadata": {},
   "outputs": [
    {
     "data": {
      "text/plain": [
       "[u'Anzelma',\n",
       " u'Babet',\n",
       " u'Bahorel',\n",
       " u'Bamatabois',\n",
       " u'Bossuet',\n",
       " u'Brujon',\n",
       " u'Claquesous',\n",
       " u'Combeferre',\n",
       " u'Cosette',\n",
       " u'Courfeyrac',\n",
       " u'Enjolras',\n",
       " u'Eponine',\n",
       " u'Fantine',\n",
       " u'Feuilly',\n",
       " u'Gavroche',\n",
       " u'Gillenormand',\n",
       " u'Grantaire',\n",
       " u'Gueulemer',\n",
       " u'Javert',\n",
       " u'Joly',\n",
       " u'LtGillenormand',\n",
       " u'Mabeuf',\n",
       " u'Marius',\n",
       " u'MlleGillenormand',\n",
       " u'MmeHucheloup',\n",
       " u'MmeThenardier',\n",
       " u'Montparnasse',\n",
       " u'Prouvaire',\n",
       " u'Simplice',\n",
       " u'Thenardier',\n",
       " u'Toussaint',\n",
       " u'Valjean',\n",
       " u'Woman2']"
      ]
     },
     "execution_count": 8,
     "metadata": {},
     "output_type": "execute_result"
    }
   ],
   "source": [
    "sorted(c4[1])"
   ]
  },
  {
   "cell_type": "code",
   "execution_count": 9,
   "metadata": {},
   "outputs": [
    {
     "data": {
      "text/plain": [
       "[u'Bamatabois',\n",
       " u'Brevet',\n",
       " u'Champmathieu',\n",
       " u'Chenildieu',\n",
       " u'Cochepaille',\n",
       " u'Judge',\n",
       " u'Valjean']"
      ]
     },
     "execution_count": 9,
     "metadata": {},
     "output_type": "execute_result"
    }
   ],
   "source": [
    "sorted(c4[2])"
   ]
  },
  {
   "cell_type": "code",
   "execution_count": 10,
   "metadata": {},
   "outputs": [
    {
     "data": {
      "text/plain": [
       "[u'MlleBaptistine', u'MmeMagloire', u'Myriel', u'Valjean']"
      ]
     },
     "execution_count": 10,
     "metadata": {},
     "output_type": "execute_result"
    }
   ],
   "source": [
    "sorted(c4[3])"
   ]
  },
  {
   "cell_type": "code",
   "execution_count": null,
   "metadata": {},
   "outputs": [],
   "source": []
  }
 ],
 "metadata": {
  "kernelspec": {
   "display_name": "Python 2",
   "language": "python",
   "name": "python2"
  },
  "language_info": {
   "codemirror_mode": {
    "name": "ipython",
    "version": 2
   },
   "file_extension": ".py",
   "mimetype": "text/x-python",
   "name": "python",
   "nbconvert_exporter": "python",
   "pygments_lexer": "ipython2",
   "version": "2.7.15"
  }
 },
 "nbformat": 4,
 "nbformat_minor": 2
}
