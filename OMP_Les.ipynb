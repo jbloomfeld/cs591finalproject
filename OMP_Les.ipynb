{
 "cells": [
  {
   "cell_type": "code",
   "execution_count": null,
   "metadata": {},
   "outputs": [],
   "source": [
    "import matplotlib.pyplot as plt\n",
    "import numpy as np\n",
    "from sklearn.linear_model import OrthogonalMatchingPursuit\n",
    "from sklearn.linear_model import OrthogonalMatchingPursuitCV\n",
    "from sklearn.datasets import make_sparse_coded_signal"
   ]
  },
  {
   "cell_type": "code",
   "execution_count": null,
   "metadata": {},
   "outputs": [],
   "source": [
    "n_components, n_features = 512, 100\n",
    "n_nonzero_coefs = 17\n",
    "\n",
    "# generate the data\n",
    "###################\n",
    "\n",
    "# y = Xw\n",
    "# |x|_0 = n_nonzero_coefs\n",
    "\n",
    "y, X, w = make_sparse_coded_signal(n_samples=1,\n",
    "                                   n_components=n_components,\n",
    "                                   n_features=n_features,\n",
    "                                   n_nonzero_coefs=n_nonzero_coefs,\n",
    "                                   random_state=0)\n",
    "\n",
    "idx, = w.nonzero()\n",
    "\n",
    "# distort the clean signal"
   ]
  },
  {
   "cell_type": "code",
   "execution_count": null,
   "metadata": {},
   "outputs": [],
   "source": [
    "y_noisy = y + 0.05 * np.random.randn(len(y))\n",
    "\n",
    "# plot the sparse signal"
   ]
  },
  {
   "cell_type": "code",
   "execution_count": null,
   "metadata": {},
   "outputs": [],
   "source": [
    "plt.figure(figsize=(7, 7))\n",
    "plt.subplot(4, 1, 1)\n",
    "plt.xlim(0, 512)\n",
    "plt.title(\"Sparse signal\")\n",
    "plt.stem(idx, w[idx])\n",
    "\n",
    "# plot the noise-free reconstruction"
   ]
  }
 ],
 "metadata": {
  "kernelspec": {
   "display_name": "Python 3",
   "language": "python",
   "name": "python3"
  },
  "language_info": {
   "codemirror_mode": {
    "name": "ipython",
    "version": 3
   },
   "file_extension": ".py",
   "mimetype": "text/x-python",
   "name": "python",
   "nbconvert_exporter": "python",
   "pygments_lexer": "ipython3",
   "version": "3.6.5"
  }
 },
 "nbformat": 4,
 "nbformat_minor": 2
}
